{
  "cells": [
    {
      "cell_type": "markdown",
      "source": [
        "# Simple Grover's Search with the Azure Quantum Service\n",
        "\n",
        "This notebook demonstrates how to use Q# and the Azure Quantum service together to search for data with Grover's algorithm, an example of the quantum development technique known as amplitude amplification. By applying a sequence of reflections, this sample prepares a register of qubits in a state marked by a given quantum operation known as an oracle. The oracle used in this sample checks if its input matches a given integer, so that the computational basis state corresponding to that index is prepared with high probability."
      ],
      "metadata": {
        "nteract": {
          "transient": {
            "deleting": false
          }
        }
      }
    },
    {
      "cell_type": "markdown",
      "source": [
        "## Grover's diffusion operator\n",
        "First, define the operations that will be used to create the Grover diffusion operator. This can take 30 seconds to run the first time, as the Q# environment is initializing."
      ],
      "metadata": {
        "nteract": {
          "transient": {
            "deleting": false
          }
        }
      }
    },
    {
      "cell_type": "code",
      "source": [
        "open Microsoft.Quantum.Arrays;\n",
        "\n",
        "operation PrepareUniform(inputQubits : Qubit[]) : Unit is Adj + Ctl {\n",
        "    ApplyToEachCA(H, inputQubits);\n",
        "}\n",
        "\n",
        "operation PrepareAllOnes(inputQubits : Qubit[]) : Unit is Adj + Ctl {\n",
        "    ApplyToEachCA(X, inputQubits);\n",
        "}\n",
        "\n",
        "operation ReflectAboutAllOnes(inputQubits : Qubit[]) : Unit {\n",
        "    Controlled Z(Most(inputQubits), Tail(inputQubits));\n",
        "}"
      ],
      "outputs": [
        {
          "output_type": "execute_result",
          "execution_count": 1,
          "data": {
            "text/plain": "PrepareUniform, PrepareAllOnes, ReflectAboutAllOnes",
            "text/html": "<ul><li>PrepareUniform</li><li>PrepareAllOnes</li><li>ReflectAboutAllOnes</li></ul>",
            "application/x-qsharp-data": "[\"PrepareUniform\",\"PrepareAllOnes\",\"ReflectAboutAllOnes\"]"
          },
          "metadata": {}
        }
      ],
      "execution_count": 1,
      "metadata": {
        "jupyter": {
          "outputs_hidden": false,
          "source_hidden": false
        },
        "nteract": {
          "transient": {
            "deleting": false
          }
        }
      }
    },
    {
      "cell_type": "markdown",
      "source": [
        "Next, define the diffusion operator. This reflects the input qubits about the uniform superposition state."
      ],
      "metadata": {
        "nteract": {
          "transient": {
            "deleting": false
          }
        }
      }
    },
    {
      "cell_type": "code",
      "source": [
        "operation ReflectAboutUniform(inputQubits : Qubit[]) : Unit {\n",
        "    within {\n",
        "        // Transform the uniform superposition to all-zero.\n",
        "        Adjoint PrepareUniform(inputQubits);\n",
        "        // Transform the all-zero state to all-ones\n",
        "        PrepareAllOnes(inputQubits);\n",
        "    } apply {\n",
        "        // Now that we've transformed the uniform superposition to the\n",
        "        // all-ones state, reflect about the all-ones state, then let\n",
        "        // the within/apply block transform us back.\n",
        "        ReflectAboutAllOnes(inputQubits);\n",
        "    }\n",
        "}"
      ],
      "outputs": [
        {
          "output_type": "execute_result",
          "execution_count": 2,
          "data": {
            "text/plain": "ReflectAboutUniform",
            "text/html": "<ul><li>ReflectAboutUniform</li></ul>",
            "application/x-qsharp-data": "[\"ReflectAboutUniform\"]"
          },
          "metadata": {}
        }
      ],
      "execution_count": 2,
      "metadata": {
        "jupyter": {
          "outputs_hidden": false,
          "source_hidden": false
        },
        "nteract": {
          "transient": {
            "deleting": false
          }
        }
      }
    },
    {
      "cell_type": "markdown",
      "source": [
        "## Grover's operation\n",
        "Now we write a Q# operation for Grover's search algorithm. Start by defining an function that will return the number of Grover iterations needed to find a single marked item, given the number of qubits in a register. "
      ],
      "metadata": {
        "nteract": {
          "transient": {
            "deleting": false
          }
        }
      }
    },
    {
      "cell_type": "code",
      "source": [
        "open Microsoft.Quantum.Math;\n",
        "open Microsoft.Quantum.Convert;\n",
        "\n",
        "function NIterations(nQubits : Int) : Int {\n",
        "    let nItems = 1 <<< nQubits; // 2^numQubits\n",
        "    // compute number of iterations:\n",
        "    let angle = ArcSin(1. / Sqrt(IntAsDouble(nItems)));\n",
        "    let nIterations = Round(0.25 * PI() / angle - 0.5);\n",
        "    return nIterations;\n",
        "}"
      ],
      "outputs": [
        {
          "output_type": "execute_result",
          "execution_count": 3,
          "data": {
            "text/plain": "NIterations",
            "text/html": "<ul><li>NIterations</li></ul>",
            "application/x-qsharp-data": "[\"NIterations\"]"
          },
          "metadata": {}
        }
      ],
      "execution_count": 3,
      "metadata": {
        "jupyter": {
          "outputs_hidden": false,
          "source_hidden": false
        },
        "nteract": {
          "transient": {
            "deleting": false
          }
        }
      }
    },
    {
      "cell_type": "markdown",
      "source": [
        "Next, define an operation to reflect the input register about the basis state marked by a given index. This operation defines the input we are trying to find in the main search."
      ],
      "metadata": {
        "nteract": {
          "transient": {
            "deleting": false
          }
        }
      }
    },
    {
      "cell_type": "code",
      "source": [
        "operation ReflectAboutMarked(idxMarked : Int, inputQubits : Qubit[]) : Unit {\n",
        "    use outputQubit = Qubit();\n",
        "    within {\n",
        "        // We initialize the outputQubit to (|0⟩ - |1⟩) / √2,\n",
        "        // so that toggling it results in a (-1) phase.\n",
        "        X(outputQubit);\n",
        "        H(outputQubit);\n",
        "    } apply {\n",
        "        // Flip the outputQubit for marked states.\n",
        "        // Here, we get the state given by the index idxMarked.\n",
        "        (ControlledOnInt(idxMarked, X))(inputQubits, outputQubit);\n",
        "    }\n",
        "}"
      ],
      "outputs": [
        {
          "output_type": "execute_result",
          "execution_count": 4,
          "data": {
            "text/plain": "ReflectAboutMarked",
            "text/html": "<ul><li>ReflectAboutMarked</li></ul>",
            "application/x-qsharp-data": "[\"ReflectAboutMarked\"]"
          },
          "metadata": {}
        }
      ],
      "execution_count": 4,
      "metadata": {
        "jupyter": {
          "outputs_hidden": false,
          "source_hidden": false
        },
        "nteract": {
          "transient": {
            "deleting": false
          }
        }
      }
    },
    {
      "cell_type": "markdown",
      "source": [
        "Finally, we apply Grover's algorithm to search all possible inputs to an operation to find a particular marked state. To do this, we create an operation that takes the number of qubits to be allocated and the index of the marked item to be found. The output will be the computational basis state found in the final measurement. The output should be a little-endian representation of the marked index."
      ],
      "metadata": {
        "nteract": {
          "transient": {
            "deleting": false
          }
        }
      }
    },
    {
      "cell_type": "code",
      "source": [
        "open Microsoft.Quantum.Measurement;\n",
        "\n",
        "operation SearchForMarkedInput(nQubits : Int, idxMarked : Int) : Result[] {\n",
        "    use qubits = Qubit[nQubits];\n",
        "    // Initialize a uniform superposition over all possible inputs.\n",
        "    PrepareUniform(qubits);\n",
        "    // The search itself consists of repeatedly reflecting about the\n",
        "    // marked state and our start state, which we can write out in Q#\n",
        "    // as a for loop.\n",
        "    for _ in 0..NIterations(nQubits) - 1 {\n",
        "        ReflectAboutMarked(idxMarked, qubits);\n",
        "        ReflectAboutUniform(qubits);\n",
        "    }\n",
        "    // Measure and return the answer.\n",
        "    return ForEach(MResetZ, qubits);\n",
        "}"
      ],
      "outputs": [
        {
          "output_type": "execute_result",
          "execution_count": 5,
          "data": {
            "text/plain": "SearchForMarkedInput",
            "text/html": "<ul><li>SearchForMarkedInput</li></ul>",
            "application/x-qsharp-data": "[\"SearchForMarkedInput\"]"
          },
          "metadata": {}
        }
      ],
      "execution_count": 5,
      "metadata": {
        "jupyter": {
          "outputs_hidden": false,
          "source_hidden": false
        },
        "nteract": {
          "transient": {
            "deleting": false
          }
        }
      }
    },
    {
      "cell_type": "markdown",
      "source": [
        "We can run a local simulation of this operation using the [`%simulate`](https://docs.microsoft.com/en-us/qsharp/api/iqsharp-magic/simulate) command."
      ],
      "metadata": {
        "nteract": {
          "transient": {
            "deleting": false
          }
        }
      }
    },
    {
      "cell_type": "code",
      "source": [
        "%simulate SearchForMarkedInput nQubits=3 idxMarked=6"
      ],
      "outputs": [
        {
          "output_type": "execute_result",
          "execution_count": 6,
          "data": {
            "text/plain": "One, Zero, Zero",
            "text/html": "<ul><li>One</li><li>Zero</li><li>Zero</li></ul>",
            "application/x-qsharp-data": "[1,0,0]"
          },
          "metadata": {}
        }
      ],
      "execution_count": 6,
      "metadata": {
        "jupyter": {
          "outputs_hidden": false,
          "source_hidden": false
        },
        "nteract": {
          "transient": {
            "deleting": false
          }
        }
      }
    },
    {
      "cell_type": "markdown",
      "source": [
        "## Running Grover's algorithm in Azure Quantum\n",
        "To run the operation on the Azure Quantum service, you must first connect to your workspace by running [`%azure.connect`](https://docs.microsoft.com/en-us/qsharp/api/iqsharp-magic/azure.connect) with the workspace's resource ID and location."
      ],
      "metadata": {
        "nteract": {
          "transient": {
            "deleting": false
          }
        }
      }
    },
    {
      "cell_type": "code",
      "source": [
        "%azure.connect \"/subscriptions/9dbd66b6-9670-4250-86f1-bb281ca80073/resourceGroups/quantum-sandbox/providers/Microsoft.Quantum/Workspaces/jameskingdon-qw\" location=\"eastus\""
      ],
      "outputs": [
        {
          "output_type": "display_data",
          "data": {
            "text/plain": "",
            "application/x-qsharp-data": "\"\""
          },
          "metadata": {}
        },
        {
          "output_type": "stream",
          "name": "stdout",
          "text": "Authenticated using Microsoft.Azure.Quantum.Authentication.TokenFileCredential\n\n\nConnected to Azure Quantum workspace jameskingdon-qw in location eastus.\n"
        },
        {
          "output_type": "execute_result",
          "execution_count": 7,
          "data": {
            "text/plain": "Target ID                   Current Availability Average Queue Time (Seconds)\n--------------------------- ----------- -----\nionq.qpu                    Available   40565\nionq.qpu.aria-1             Available   56817\nionq.simulator              Available   2\nquantinuum.hqs-lt-s1        Unavailable 0\nquantinuum.hqs-lt-s1-apival Available   1\nquantinuum.hqs-lt-s2        Degraded    0\nquantinuum.hqs-lt-s2-apival Available   0\nquantinuum.hqs-lt-s1-sim    Available   11019\nquantinuum.hqs-lt-s2-sim    Available   29\nquantinuum.hqs-lt           Degraded    0\n",
            "text/html": "<table><thead><tr><th style=\"text-align: start;\">Target ID</th><th style=\"text-align: start;\">Current Availability</th><th style=\"text-align: start;\">Average Queue Time (Seconds)</th></tr></thead><tbody><tr><td style=\"text-align: start;\">ionq.qpu</td><td style=\"text-align: start;\">Available</td><td style=\"text-align: start;\">40565</td></tr><tr><td style=\"text-align: start;\">ionq.qpu.aria-1</td><td style=\"text-align: start;\">Available</td><td style=\"text-align: start;\">56817</td></tr><tr><td style=\"text-align: start;\">ionq.simulator</td><td style=\"text-align: start;\">Available</td><td style=\"text-align: start;\">2</td></tr><tr><td style=\"text-align: start;\">quantinuum.hqs-lt-s1</td><td style=\"text-align: start;\">Unavailable</td><td style=\"text-align: start;\">0</td></tr><tr><td style=\"text-align: start;\">quantinuum.hqs-lt-s1-apival</td><td style=\"text-align: start;\">Available</td><td style=\"text-align: start;\">1</td></tr><tr><td style=\"text-align: start;\">quantinuum.hqs-lt-s2</td><td style=\"text-align: start;\">Degraded</td><td style=\"text-align: start;\">0</td></tr><tr><td style=\"text-align: start;\">quantinuum.hqs-lt-s2-apival</td><td style=\"text-align: start;\">Available</td><td style=\"text-align: start;\">0</td></tr><tr><td style=\"text-align: start;\">quantinuum.hqs-lt-s1-sim</td><td style=\"text-align: start;\">Available</td><td style=\"text-align: start;\">11019</td></tr><tr><td style=\"text-align: start;\">quantinuum.hqs-lt-s2-sim</td><td style=\"text-align: start;\">Available</td><td style=\"text-align: start;\">29</td></tr><tr><td style=\"text-align: start;\">quantinuum.hqs-lt</td><td style=\"text-align: start;\">Degraded</td><td style=\"text-align: start;\">0</td></tr></tbody></table>",
            "application/x-qsharp-data": "[{\"id\":\"ionq.qpu\",\"current_availability\":{},\"average_queue_time\":40565},{\"id\":\"ionq.qpu.aria-1\",\"current_availability\":{},\"average_queue_time\":56817},{\"id\":\"ionq.simulator\",\"current_availability\":{},\"average_queue_time\":2},{\"id\":\"quantinuum.hqs-lt-s1\",\"current_availability\":{},\"average_queue_time\":0},{\"id\":\"quantinuum.hqs-lt-s1-apival\",\"current_availability\":{},\"average_queue_time\":1},{\"id\":\"quantinuum.hqs-lt-s2\",\"current_availability\":{},\"average_queue_time\":0},{\"id\":\"quantinuum.hqs-lt-s2-apival\",\"current_availability\":{},\"average_queue_time\":0},{\"id\":\"quantinuum.hqs-lt-s1-sim\",\"current_availability\":{},\"average_queue_time\":11019},{\"id\":\"quantinuum.hqs-lt-s2-sim\",\"current_availability\":{},\"average_queue_time\":29},{\"id\":\"quantinuum.hqs-lt\",\"current_availability\":{},\"average_queue_time\":0}]"
          },
          "metadata": {}
        }
      ],
      "execution_count": 7,
      "metadata": {
        "jupyter": {
          "outputs_hidden": false,
          "source_hidden": false
        },
        "nteract": {
          "transient": {
            "deleting": false
          }
        }
      }
    },
    {
      "cell_type": "markdown",
      "source": [
        "# IonQ Simulator Results"
      ],
      "metadata": {
        "nteract": {
          "transient": {
            "deleting": false
          }
        }
      }
    },
    {
      "cell_type": "markdown",
      "source": [
        "Then use [`%azure.target`](https://docs.microsoft.com/en-us/qsharp/api/iqsharp-magic/azure.target) to select the target you'd like to use for job submission. This may take a minute or so."
      ],
      "metadata": {
        "nteract": {
          "transient": {
            "deleting": false
          }
        }
      }
    },
    {
      "cell_type": "code",
      "source": [
        "%azure.target ionq.simulator"
      ],
      "outputs": [
        {
          "output_type": "stream",
          "name": "stdout",
          "text": "Loading package Microsoft.Quantum.Providers.IonQ and dependencies...\nActive target is now ionq.simulator\n"
        },
        {
          "output_type": "execute_result",
          "execution_count": 34,
          "data": {
            "text/plain": "Target ID      Current Availability Average Queue Time (Seconds)\n-------------- --------- -\nionq.simulator Available 3\n",
            "text/html": "<table><thead><tr><th style=\"text-align: start;\">Target ID</th><th style=\"text-align: start;\">Current Availability</th><th style=\"text-align: start;\">Average Queue Time (Seconds)</th></tr></thead><tbody><tr><td style=\"text-align: start;\">ionq.simulator</td><td style=\"text-align: start;\">Available</td><td style=\"text-align: start;\">3</td></tr></tbody></table>",
            "application/x-qsharp-data": "{\"id\":\"ionq.simulator\",\"current_availability\":{},\"average_queue_time\":3}"
          },
          "metadata": {}
        }
      ],
      "execution_count": 34,
      "metadata": {
        "jupyter": {
          "outputs_hidden": false,
          "source_hidden": false
        },
        "nteract": {
          "transient": {
            "deleting": false
          }
        }
      }
    },
    {
      "cell_type": "markdown",
      "source": [
        "To submit the job, use [`%azure.submit`](https://docs.microsoft.com/en-us/qsharp/api/iqsharp-magic/azure.submit) with the Q# operation name and any required parameters. This will return immediately after the job is created. Alternatively, you can use [`%azure.execute`](https://docs.microsoft.com/en-us/qsharp/api/iqsharp-magic/azure.execute)., which will submit the job and wait for it to complete. "
      ],
      "metadata": {
        "nteract": {
          "transient": {
            "deleting": false
          }
        }
      }
    },
    {
      "cell_type": "code",
      "source": [
        "%azure.submit SearchForMarkedInput nQubits=3 idxMarked=6"
      ],
      "outputs": [
        {
          "output_type": "stream",
          "name": "stdout",
          "text": "Submitting SearchForMarkedInput to target ionq.simulator...\nJob successfully submitted.\n   Job name: SearchForMarkedInput\n   Job ID: 3d91fa18-b416-4908-b451-e2cf2f0ebe73\n"
        },
        {
          "output_type": "execute_result",
          "execution_count": 35,
          "data": {
            "text/plain": "Job Name             Job ID                                                                                                                                                                                                                                                                                                                                                      Job Status Target         Creation Time              Begin Execution Time End Execution Time Cost Estimate\n-------------------- ----------------------------------------------------------------------------------------------------------------------------------------------------------------------------------------------------------------------------------------------------------------------------------------------------------------------------------------------------------- ------- -------------- --------------------------\nSearchForMarkedInput <a href=\"https://portal.azure.com/#@microsoft.onmicrosoft.com/resource/subscriptions/9dbd66b6-9670-4250-86f1-bb281ca80073/resourceGroups/quantum-sandbox/providers/Microsoft.Quantum/Workspaces/jameskingdon-qw/job_management?microsoft_azure_quantum_jobid=3d91fa18-b416-4908-b451-e2cf2f0ebe73\" target=\"_blank\">3d91fa18-b416-4908-b451-e2cf2f0ebe73</a> Waiting ionq.simulator 09/07/2022 14:25:06 +00:00\n",
            "text/html": "<table><thead><tr><th style=\"text-align: start;\">Job Name</th><th style=\"text-align: start;\">Job ID</th><th style=\"text-align: start;\">Job Status</th><th style=\"text-align: start;\">Target</th><th style=\"text-align: start;\">Creation Time</th><th style=\"text-align: start;\">Begin Execution Time</th><th style=\"text-align: start;\">End Execution Time</th><th style=\"text-align: start;\">Cost Estimate</th></tr></thead><tbody><tr><td style=\"text-align: start;\">SearchForMarkedInput</td><td style=\"text-align: start;\"><a href=\"https://portal.azure.com/#@microsoft.onmicrosoft.com/resource/subscriptions/9dbd66b6-9670-4250-86f1-bb281ca80073/resourceGroups/quantum-sandbox/providers/Microsoft.Quantum/Workspaces/jameskingdon-qw/job_management?microsoft_azure_quantum_jobid=3d91fa18-b416-4908-b451-e2cf2f0ebe73\" target=\"_blank\">3d91fa18-b416-4908-b451-e2cf2f0ebe73</a></td><td style=\"text-align: start;\">Waiting</td><td style=\"text-align: start;\">ionq.simulator</td><td style=\"text-align: start;\">09/07/2022 14:25:06 +00:00</td><td style=\"text-align: start;\"></td><td style=\"text-align: start;\"></td><td style=\"text-align: start;\"></td></tr></tbody></table>",
            "application/x-qsharp-data": "{\"id\":\"3d91fa18-b416-4908-b451-e2cf2f0ebe73\",\"name\":\"SearchForMarkedInput\",\"status\":\"Waiting\",\"uri\":\"https://portal.azure.com/#@microsoft.onmicrosoft.com/resource/subscriptions/9dbd66b6-9670-4250-86f1-bb281ca80073/resourceGroups/quantum-sandbox/providers/Microsoft.Quantum/Workspaces/jameskingdon-qw/job_management?microsoft_azure_quantum_jobid=3d91fa18-b416-4908-b451-e2cf2f0ebe73\",\"provider\":\"ionq\",\"target\":\"ionq.simulator\",\"creation_time\":\"2022-09-07T14:25:06.1749207+00:00\",\"begin_execution_time\":null,\"end_execution_time\":null,\"cost_estimate\":\"\"}"
          },
          "metadata": {}
        }
      ],
      "execution_count": 35,
      "metadata": {
        "jupyter": {
          "outputs_hidden": false,
          "source_hidden": false
        },
        "nteract": {
          "transient": {
            "deleting": false
          }
        }
      }
    },
    {
      "cell_type": "markdown",
      "source": [
        "You can check the status of the job using [`%azure.status`](https://docs.microsoft.com/en-us/qsharp/api/iqsharp-magic/azure.status). Calling this command without any input will check the status of the job most recently submitted in this session. You can also pass a job ID to check the status of a different job."
      ],
      "metadata": {
        "nteract": {
          "transient": {
            "deleting": false
          }
        }
      }
    },
    {
      "cell_type": "code",
      "source": [
        "%azure.status"
      ],
      "outputs": [
        {
          "output_type": "execute_result",
          "execution_count": 39,
          "data": {
            "text/plain": "Job Name             Job ID                                                                                                                                                                                                                                                                                                                                                      Job Status Target         Creation Time              Begin Execution Time       End Execution Time         Cost Estimate\n-------------------- ----------------------------------------------------------------------------------------------------------------------------------------------------------------------------------------------------------------------------------------------------------------------------------------------------------------------------------------------------------- --------- -------------- -------------------------- -------------------------- -------------------------- -----\nSearchForMarkedInput <a href=\"https://portal.azure.com/#@microsoft.onmicrosoft.com/resource/subscriptions/9dbd66b6-9670-4250-86f1-bb281ca80073/resourceGroups/quantum-sandbox/providers/Microsoft.Quantum/Workspaces/jameskingdon-qw/job_management?microsoft_azure_quantum_jobid=3d91fa18-b416-4908-b451-e2cf2f0ebe73\" target=\"_blank\">3d91fa18-b416-4908-b451-e2cf2f0ebe73</a> Succeeded ionq.simulator 09/07/2022 14:25:06 +00:00 09/07/2022 14:25:15 +00:00 09/07/2022 14:25:15 +00:00 $0.00\n",
            "text/html": "<table><thead><tr><th style=\"text-align: start;\">Job Name</th><th style=\"text-align: start;\">Job ID</th><th style=\"text-align: start;\">Job Status</th><th style=\"text-align: start;\">Target</th><th style=\"text-align: start;\">Creation Time</th><th style=\"text-align: start;\">Begin Execution Time</th><th style=\"text-align: start;\">End Execution Time</th><th style=\"text-align: start;\">Cost Estimate</th></tr></thead><tbody><tr><td style=\"text-align: start;\">SearchForMarkedInput</td><td style=\"text-align: start;\"><a href=\"https://portal.azure.com/#@microsoft.onmicrosoft.com/resource/subscriptions/9dbd66b6-9670-4250-86f1-bb281ca80073/resourceGroups/quantum-sandbox/providers/Microsoft.Quantum/Workspaces/jameskingdon-qw/job_management?microsoft_azure_quantum_jobid=3d91fa18-b416-4908-b451-e2cf2f0ebe73\" target=\"_blank\">3d91fa18-b416-4908-b451-e2cf2f0ebe73</a></td><td style=\"text-align: start;\">Succeeded</td><td style=\"text-align: start;\">ionq.simulator</td><td style=\"text-align: start;\">09/07/2022 14:25:06 +00:00</td><td style=\"text-align: start;\">09/07/2022 14:25:15 +00:00</td><td style=\"text-align: start;\">09/07/2022 14:25:15 +00:00</td><td style=\"text-align: start;\">$0.00</td></tr></tbody></table>",
            "application/x-qsharp-data": "{\"id\":\"3d91fa18-b416-4908-b451-e2cf2f0ebe73\",\"name\":\"SearchForMarkedInput\",\"status\":\"Succeeded\",\"uri\":\"https://portal.azure.com/#@microsoft.onmicrosoft.com/resource/subscriptions/9dbd66b6-9670-4250-86f1-bb281ca80073/resourceGroups/quantum-sandbox/providers/Microsoft.Quantum/Workspaces/jameskingdon-qw/job_management?microsoft_azure_quantum_jobid=3d91fa18-b416-4908-b451-e2cf2f0ebe73\",\"provider\":\"ionq\",\"target\":\"ionq.simulator\",\"creation_time\":\"2022-09-07T14:25:06.1749207+00:00\",\"begin_execution_time\":\"2022-09-07T14:25:15.009+00:00\",\"end_execution_time\":\"2022-09-07T14:25:15.035+00:00\",\"cost_estimate\":\"$0.00\"}"
          },
          "metadata": {}
        }
      ],
      "execution_count": 39,
      "metadata": {
        "jupyter": {
          "outputs_hidden": false,
          "source_hidden": false
        },
        "nteract": {
          "transient": {
            "deleting": false
          }
        }
      }
    },
    {
      "cell_type": "markdown",
      "source": [
        "Once the job is complete, you can view the output using the [`%azure.output`](https://docs.microsoft.com/en-us/qsharp/api/iqsharp-magic/azure.output) command. This magic command will also accept a job ID to check the output of a previously submitted job."
      ],
      "metadata": {
        "nteract": {
          "transient": {
            "deleting": false
          }
        }
      }
    },
    {
      "cell_type": "code",
      "source": [
        "%azure.output"
      ],
      "outputs": [
        {
          "output_type": "execute_result",
          "execution_count": 38,
          "data": {
            "text/plain": "Result  Frequency\n------- ---------\n[0,0,0] 0.0078125\n[1,0,0] 0.0078125\n[0,1,0] 0.0078125\n[1,1,0] 0.0078125\n[0,0,1] 0.0078125\n[1,0,1] 0.0078125\n[0,1,1] 0.9453125\n[1,1,1] 0.0078125\n",
            "text/html": "\r\n                    <table style=\"table-layout: fixed; width: 100%\">\r\n                        <thead>\r\n                            <tr>\r\n                                <th style=\"text-align: left; width: 25ch\">Result</th>\r\n                                <th style=\"text-align: left; width: 25ch\">Frequency</th>\r\n                                <th style=\"text-align: left; width: calc(100% - 25ch - 25ch)\">Histogram</th>\r\n                            </tr>\r\n                        </thead>\r\n                        <tbody>\r\n                            \r\n                            <tr>\r\n                                <td style=\"text-align: left; width: 25ch\">[0,0,0]</td>\r\n                                <td style=\"text-align: left; width: 25ch\">0.0078125</td>\r\n                                <td style=\"text-align: left; width: calc(100% - 25ch - 25ch)\">\r\n                                    <progress\r\n                                        max=\"100\"\r\n                                        value=\"0.78125\"\r\n                                        style=\"width: 100%;\"\r\n                                    >\r\n                                </td>\r\n                            </tr>\r\n                        \n\r\n                            <tr>\r\n                                <td style=\"text-align: left; width: 25ch\">[1,0,0]</td>\r\n                                <td style=\"text-align: left; width: 25ch\">0.0078125</td>\r\n                                <td style=\"text-align: left; width: calc(100% - 25ch - 25ch)\">\r\n                                    <progress\r\n                                        max=\"100\"\r\n                                        value=\"0.78125\"\r\n                                        style=\"width: 100%;\"\r\n                                    >\r\n                                </td>\r\n                            </tr>\r\n                        \n\r\n                            <tr>\r\n                                <td style=\"text-align: left; width: 25ch\">[0,1,0]</td>\r\n                                <td style=\"text-align: left; width: 25ch\">0.0078125</td>\r\n                                <td style=\"text-align: left; width: calc(100% - 25ch - 25ch)\">\r\n                                    <progress\r\n                                        max=\"100\"\r\n                                        value=\"0.78125\"\r\n                                        style=\"width: 100%;\"\r\n                                    >\r\n                                </td>\r\n                            </tr>\r\n                        \n\r\n                            <tr>\r\n                                <td style=\"text-align: left; width: 25ch\">[1,1,0]</td>\r\n                                <td style=\"text-align: left; width: 25ch\">0.0078125</td>\r\n                                <td style=\"text-align: left; width: calc(100% - 25ch - 25ch)\">\r\n                                    <progress\r\n                                        max=\"100\"\r\n                                        value=\"0.78125\"\r\n                                        style=\"width: 100%;\"\r\n                                    >\r\n                                </td>\r\n                            </tr>\r\n                        \n\r\n                            <tr>\r\n                                <td style=\"text-align: left; width: 25ch\">[0,0,1]</td>\r\n                                <td style=\"text-align: left; width: 25ch\">0.0078125</td>\r\n                                <td style=\"text-align: left; width: calc(100% - 25ch - 25ch)\">\r\n                                    <progress\r\n                                        max=\"100\"\r\n                                        value=\"0.78125\"\r\n                                        style=\"width: 100%;\"\r\n                                    >\r\n                                </td>\r\n                            </tr>\r\n                        \n\r\n                            <tr>\r\n                                <td style=\"text-align: left; width: 25ch\">[1,0,1]</td>\r\n                                <td style=\"text-align: left; width: 25ch\">0.0078125</td>\r\n                                <td style=\"text-align: left; width: calc(100% - 25ch - 25ch)\">\r\n                                    <progress\r\n                                        max=\"100\"\r\n                                        value=\"0.78125\"\r\n                                        style=\"width: 100%;\"\r\n                                    >\r\n                                </td>\r\n                            </tr>\r\n                        \n\r\n                            <tr>\r\n                                <td style=\"text-align: left; width: 25ch\">[0,1,1]</td>\r\n                                <td style=\"text-align: left; width: 25ch\">0.9453125</td>\r\n                                <td style=\"text-align: left; width: calc(100% - 25ch - 25ch)\">\r\n                                    <progress\r\n                                        max=\"100\"\r\n                                        value=\"94.53125\"\r\n                                        style=\"width: 100%;\"\r\n                                    >\r\n                                </td>\r\n                            </tr>\r\n                        \n\r\n                            <tr>\r\n                                <td style=\"text-align: left; width: 25ch\">[1,1,1]</td>\r\n                                <td style=\"text-align: left; width: 25ch\">0.0078125</td>\r\n                                <td style=\"text-align: left; width: calc(100% - 25ch - 25ch)\">\r\n                                    <progress\r\n                                        max=\"100\"\r\n                                        value=\"0.78125\"\r\n                                        style=\"width: 100%;\"\r\n                                    >\r\n                                </td>\r\n                            </tr>\r\n                        \r\n                        </tbody>\r\n                    </table>\r\n                ",
            "application/x-qsharp-data": "{\"[0,0,0]\":0.0078125,\"[1,0,0]\":0.0078125,\"[0,1,0]\":0.0078125,\"[1,1,0]\":0.0078125,\"[0,0,1]\":0.0078125,\"[1,0,1]\":0.0078125,\"[0,1,1]\":0.9453125,\"[1,1,1]\":0.0078125}"
          },
          "metadata": {}
        }
      ],
      "execution_count": 38,
      "metadata": {
        "jupyter": {
          "outputs_hidden": false,
          "source_hidden": false
        },
        "nteract": {
          "transient": {
            "deleting": false
          }
        }
      }
    },
    {
      "cell_type": "markdown",
      "source": [
        "# Quantinuum Simulator Results"
      ],
      "metadata": {
        "nteract": {
          "transient": {
            "deleting": false
          }
        }
      }
    },
    {
      "cell_type": "code",
      "source": [
        "%azure.target quantinuum.hqs-lt-s2-sim\n",
        "%azure.submit SearchForMarkedInput nQubits=3 idxMarked=6"
      ],
      "outputs": [
        {
          "output_type": "stream",
          "name": "stdout",
          "text": "Loading package Microsoft.Quantum.Providers.Honeywell and dependencies...\nActive target is now quantinuum.hqs-lt-s2-sim\nSubmitting SearchForMarkedInput to target quantinuum.hqs-lt-s2-sim...\nJob successfully submitted.\n   Job name: SearchForMarkedInput\n   Job ID: b438ddab-c7b3-4a8f-bb1e-33043886920f\n"
        },
        {
          "output_type": "execute_result",
          "execution_count": 40,
          "data": {
            "text/plain": "Job Name             Job ID                                                                                                                                                                                                                                                                                                                                                      Job Status Target                   Creation Time              Begin Execution Time End Execution Time Cost Estimate\n-------------------- ----------------------------------------------------------------------------------------------------------------------------------------------------------------------------------------------------------------------------------------------------------------------------------------------------------------------------------------------------------- ------- ------------------------ --------------------------\nSearchForMarkedInput <a href=\"https://portal.azure.com/#@microsoft.onmicrosoft.com/resource/subscriptions/9dbd66b6-9670-4250-86f1-bb281ca80073/resourceGroups/quantum-sandbox/providers/Microsoft.Quantum/Workspaces/jameskingdon-qw/job_management?microsoft_azure_quantum_jobid=b438ddab-c7b3-4a8f-bb1e-33043886920f\" target=\"_blank\">b438ddab-c7b3-4a8f-bb1e-33043886920f</a> Waiting quantinuum.hqs-lt-s2-sim 09/07/2022 14:25:50 +00:00\n",
            "text/html": "<table><thead><tr><th style=\"text-align: start;\">Job Name</th><th style=\"text-align: start;\">Job ID</th><th style=\"text-align: start;\">Job Status</th><th style=\"text-align: start;\">Target</th><th style=\"text-align: start;\">Creation Time</th><th style=\"text-align: start;\">Begin Execution Time</th><th style=\"text-align: start;\">End Execution Time</th><th style=\"text-align: start;\">Cost Estimate</th></tr></thead><tbody><tr><td style=\"text-align: start;\">SearchForMarkedInput</td><td style=\"text-align: start;\"><a href=\"https://portal.azure.com/#@microsoft.onmicrosoft.com/resource/subscriptions/9dbd66b6-9670-4250-86f1-bb281ca80073/resourceGroups/quantum-sandbox/providers/Microsoft.Quantum/Workspaces/jameskingdon-qw/job_management?microsoft_azure_quantum_jobid=b438ddab-c7b3-4a8f-bb1e-33043886920f\" target=\"_blank\">b438ddab-c7b3-4a8f-bb1e-33043886920f</a></td><td style=\"text-align: start;\">Waiting</td><td style=\"text-align: start;\">quantinuum.hqs-lt-s2-sim</td><td style=\"text-align: start;\">09/07/2022 14:25:50 +00:00</td><td style=\"text-align: start;\"></td><td style=\"text-align: start;\"></td><td style=\"text-align: start;\"></td></tr></tbody></table>",
            "application/x-qsharp-data": "{\"id\":\"b438ddab-c7b3-4a8f-bb1e-33043886920f\",\"name\":\"SearchForMarkedInput\",\"status\":\"Waiting\",\"uri\":\"https://portal.azure.com/#@microsoft.onmicrosoft.com/resource/subscriptions/9dbd66b6-9670-4250-86f1-bb281ca80073/resourceGroups/quantum-sandbox/providers/Microsoft.Quantum/Workspaces/jameskingdon-qw/job_management?microsoft_azure_quantum_jobid=b438ddab-c7b3-4a8f-bb1e-33043886920f\",\"provider\":\"quantinuum\",\"target\":\"quantinuum.hqs-lt-s2-sim\",\"creation_time\":\"2022-09-07T14:25:50.8537872+00:00\",\"begin_execution_time\":null,\"end_execution_time\":null,\"cost_estimate\":\"\"}"
          },
          "metadata": {}
        }
      ],
      "execution_count": 40,
      "metadata": {
        "jupyter": {
          "source_hidden": false,
          "outputs_hidden": false
        },
        "nteract": {
          "transient": {
            "deleting": false
          }
        }
      }
    },
    {
      "cell_type": "code",
      "source": [
        "%azure.status"
      ],
      "outputs": [
        {
          "output_type": "execute_result",
          "execution_count": 75,
          "data": {
            "text/plain": "Job Name             Job ID                                                                                                                                                                                                                                                                                                                                                      Job Status Target                   Creation Time              Begin Execution Time       End Execution Time         Cost Estimate\n-------------------- ----------------------------------------------------------------------------------------------------------------------------------------------------------------------------------------------------------------------------------------------------------------------------------------------------------------------------------------------------------- --------- ------------------------ -------------------------- -------------------------- -------------------------- -----\nSearchForMarkedInput <a href=\"https://portal.azure.com/#@microsoft.onmicrosoft.com/resource/subscriptions/9dbd66b6-9670-4250-86f1-bb281ca80073/resourceGroups/quantum-sandbox/providers/Microsoft.Quantum/Workspaces/jameskingdon-qw/job_management?microsoft_azure_quantum_jobid=b438ddab-c7b3-4a8f-bb1e-33043886920f\" target=\"_blank\">b438ddab-c7b3-4a8f-bb1e-33043886920f</a> Succeeded quantinuum.hqs-lt-s2-sim 09/07/2022 14:25:50 +00:00 09/07/2022 14:27:16 +00:00 09/07/2022 14:27:39 +00:00 $0.00\n",
            "text/html": "<table><thead><tr><th style=\"text-align: start;\">Job Name</th><th style=\"text-align: start;\">Job ID</th><th style=\"text-align: start;\">Job Status</th><th style=\"text-align: start;\">Target</th><th style=\"text-align: start;\">Creation Time</th><th style=\"text-align: start;\">Begin Execution Time</th><th style=\"text-align: start;\">End Execution Time</th><th style=\"text-align: start;\">Cost Estimate</th></tr></thead><tbody><tr><td style=\"text-align: start;\">SearchForMarkedInput</td><td style=\"text-align: start;\"><a href=\"https://portal.azure.com/#@microsoft.onmicrosoft.com/resource/subscriptions/9dbd66b6-9670-4250-86f1-bb281ca80073/resourceGroups/quantum-sandbox/providers/Microsoft.Quantum/Workspaces/jameskingdon-qw/job_management?microsoft_azure_quantum_jobid=b438ddab-c7b3-4a8f-bb1e-33043886920f\" target=\"_blank\">b438ddab-c7b3-4a8f-bb1e-33043886920f</a></td><td style=\"text-align: start;\">Succeeded</td><td style=\"text-align: start;\">quantinuum.hqs-lt-s2-sim</td><td style=\"text-align: start;\">09/07/2022 14:25:50 +00:00</td><td style=\"text-align: start;\">09/07/2022 14:27:16 +00:00</td><td style=\"text-align: start;\">09/07/2022 14:27:39 +00:00</td><td style=\"text-align: start;\">$0.00</td></tr></tbody></table>",
            "application/x-qsharp-data": "{\"id\":\"b438ddab-c7b3-4a8f-bb1e-33043886920f\",\"name\":\"SearchForMarkedInput\",\"status\":\"Succeeded\",\"uri\":\"https://portal.azure.com/#@microsoft.onmicrosoft.com/resource/subscriptions/9dbd66b6-9670-4250-86f1-bb281ca80073/resourceGroups/quantum-sandbox/providers/Microsoft.Quantum/Workspaces/jameskingdon-qw/job_management?microsoft_azure_quantum_jobid=b438ddab-c7b3-4a8f-bb1e-33043886920f\",\"provider\":\"quantinuum\",\"target\":\"quantinuum.hqs-lt-s2-sim\",\"creation_time\":\"2022-09-07T14:25:50.8537872+00:00\",\"begin_execution_time\":\"2022-09-07T14:27:16.5568+00:00\",\"end_execution_time\":\"2022-09-07T14:27:39.156636+00:00\",\"cost_estimate\":\"$0.00\"}"
          },
          "metadata": {}
        }
      ],
      "execution_count": 75,
      "metadata": {
        "jupyter": {
          "source_hidden": false,
          "outputs_hidden": false
        },
        "nteract": {
          "transient": {
            "deleting": false
          }
        }
      }
    },
    {
      "cell_type": "code",
      "source": [
        "%azure.output"
      ],
      "outputs": [
        {
          "output_type": "execute_result",
          "execution_count": 76,
          "data": {
            "text/plain": "Result  Frequency\n------- --------------------\n[0,1,1] 0.7620000000000006\n[0,1,0] 0.05200000000000003\n[0,0,1] 0.04600000000000003\n[1,1,0] 0.04200000000000002\n[1,1,1] 0.022000000000000006\n[1,0,1] 0.030000000000000013\n[1,0,0] 0.030000000000000013\n[0,0,0] 0.016\n",
            "text/html": "\r\n                    <table style=\"table-layout: fixed; width: 100%\">\r\n                        <thead>\r\n                            <tr>\r\n                                <th style=\"text-align: left; width: 25ch\">Result</th>\r\n                                <th style=\"text-align: left; width: 25ch\">Frequency</th>\r\n                                <th style=\"text-align: left; width: calc(100% - 25ch - 25ch)\">Histogram</th>\r\n                            </tr>\r\n                        </thead>\r\n                        <tbody>\r\n                            \r\n                            <tr>\r\n                                <td style=\"text-align: left; width: 25ch\">[0,1,1]</td>\r\n                                <td style=\"text-align: left; width: 25ch\">0.7620000000000006</td>\r\n                                <td style=\"text-align: left; width: calc(100% - 25ch - 25ch)\">\r\n                                    <progress\r\n                                        max=\"100\"\r\n                                        value=\"76.20000000000006\"\r\n                                        style=\"width: 100%;\"\r\n                                    >\r\n                                </td>\r\n                            </tr>\r\n                        \n\r\n                            <tr>\r\n                                <td style=\"text-align: left; width: 25ch\">[0,1,0]</td>\r\n                                <td style=\"text-align: left; width: 25ch\">0.05200000000000003</td>\r\n                                <td style=\"text-align: left; width: calc(100% - 25ch - 25ch)\">\r\n                                    <progress\r\n                                        max=\"100\"\r\n                                        value=\"5.200000000000003\"\r\n                                        style=\"width: 100%;\"\r\n                                    >\r\n                                </td>\r\n                            </tr>\r\n                        \n\r\n                            <tr>\r\n                                <td style=\"text-align: left; width: 25ch\">[0,0,1]</td>\r\n                                <td style=\"text-align: left; width: 25ch\">0.04600000000000003</td>\r\n                                <td style=\"text-align: left; width: calc(100% - 25ch - 25ch)\">\r\n                                    <progress\r\n                                        max=\"100\"\r\n                                        value=\"4.600000000000002\"\r\n                                        style=\"width: 100%;\"\r\n                                    >\r\n                                </td>\r\n                            </tr>\r\n                        \n\r\n                            <tr>\r\n                                <td style=\"text-align: left; width: 25ch\">[1,1,0]</td>\r\n                                <td style=\"text-align: left; width: 25ch\">0.04200000000000002</td>\r\n                                <td style=\"text-align: left; width: calc(100% - 25ch - 25ch)\">\r\n                                    <progress\r\n                                        max=\"100\"\r\n                                        value=\"4.200000000000002\"\r\n                                        style=\"width: 100%;\"\r\n                                    >\r\n                                </td>\r\n                            </tr>\r\n                        \n\r\n                            <tr>\r\n                                <td style=\"text-align: left; width: 25ch\">[1,1,1]</td>\r\n                                <td style=\"text-align: left; width: 25ch\">0.022000000000000006</td>\r\n                                <td style=\"text-align: left; width: calc(100% - 25ch - 25ch)\">\r\n                                    <progress\r\n                                        max=\"100\"\r\n                                        value=\"2.2000000000000006\"\r\n                                        style=\"width: 100%;\"\r\n                                    >\r\n                                </td>\r\n                            </tr>\r\n                        \n\r\n                            <tr>\r\n                                <td style=\"text-align: left; width: 25ch\">[1,0,1]</td>\r\n                                <td style=\"text-align: left; width: 25ch\">0.030000000000000013</td>\r\n                                <td style=\"text-align: left; width: calc(100% - 25ch - 25ch)\">\r\n                                    <progress\r\n                                        max=\"100\"\r\n                                        value=\"3.0000000000000013\"\r\n                                        style=\"width: 100%;\"\r\n                                    >\r\n                                </td>\r\n                            </tr>\r\n                        \n\r\n                            <tr>\r\n                                <td style=\"text-align: left; width: 25ch\">[1,0,0]</td>\r\n                                <td style=\"text-align: left; width: 25ch\">0.030000000000000013</td>\r\n                                <td style=\"text-align: left; width: calc(100% - 25ch - 25ch)\">\r\n                                    <progress\r\n                                        max=\"100\"\r\n                                        value=\"3.0000000000000013\"\r\n                                        style=\"width: 100%;\"\r\n                                    >\r\n                                </td>\r\n                            </tr>\r\n                        \n\r\n                            <tr>\r\n                                <td style=\"text-align: left; width: 25ch\">[0,0,0]</td>\r\n                                <td style=\"text-align: left; width: 25ch\">0.016</td>\r\n                                <td style=\"text-align: left; width: calc(100% - 25ch - 25ch)\">\r\n                                    <progress\r\n                                        max=\"100\"\r\n                                        value=\"1.6\"\r\n                                        style=\"width: 100%;\"\r\n                                    >\r\n                                </td>\r\n                            </tr>\r\n                        \r\n                        </tbody>\r\n                    </table>\r\n                ",
            "application/x-qsharp-data": "{\"[0,1,1]\":0.7620000000000006,\"[0,1,0]\":0.05200000000000003,\"[0,0,1]\":0.04600000000000003,\"[1,1,0]\":0.04200000000000002,\"[1,1,1]\":0.022000000000000006,\"[1,0,1]\":0.030000000000000013,\"[1,0,0]\":0.030000000000000013,\"[0,0,0]\":0.016}"
          },
          "metadata": {}
        }
      ],
      "execution_count": 76,
      "metadata": {
        "jupyter": {
          "source_hidden": false,
          "outputs_hidden": false
        },
        "nteract": {
          "transient": {
            "deleting": false
          }
        }
      }
    }
  ],
  "metadata": {
    "kernel_info": {
      "name": "iqsharp"
    },
    "kernelspec": {
      "name": "iqsharp",
      "language": "qsharp",
      "display_name": "Q#"
    },
    "language_info": {
      "name": "qsharp",
      "version": "0.24",
      "mimetype": "text/x-qsharp",
      "file_extension": ".qs"
    },
    "nteract": {
      "version": "nteract-front-end@1.0.0"
    }
  },
  "nbformat": 4,
  "nbformat_minor": 1
}